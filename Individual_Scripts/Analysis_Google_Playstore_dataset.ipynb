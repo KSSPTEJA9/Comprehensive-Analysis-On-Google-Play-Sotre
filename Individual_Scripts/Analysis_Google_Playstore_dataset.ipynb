{
 "cells": [
  {
   "cell_type": "markdown",
   "id": "460bfe78",
   "metadata": {},
   "source": [
    "#### Comprehensive Data Analysis on the pre-processed data"
   ]
  },
  {
   "cell_type": "markdown",
   "id": "1dd4478f",
   "metadata": {},
   "source": [
    "###### 1. Count of the Apps for each category "
   ]
  },
  {
   "cell_type": "code",
   "execution_count": null,
   "id": "752b16b4",
   "metadata": {},
   "outputs": [],
   "source": [
    "# using inbuilt \"figure\" method of the plot to set figure size\n",
    "plt.figure(figsize=(20,6))\n",
    "#title of the plot\n",
    "plt.suptitle('Count of Apps on App Categories',fontsize = 20)\n",
    "# ,palette=['#432371',\"#FAAE7B\",\"#7fcdbb\",\"#edf8b1\",\"#fc9272\",\"#fee0d2\",\"#bcbddc\", \"#efedf5\"]\n",
    "#defining color\n",
    "sns.color_palette(\"terrain_r\", 10)\n",
    "#counter plot with in the library seaborn\n",
    "ax = sns.countplot(data=google_apps, x='Category', palette=\"terrain_r\")\n",
    "#rotating the labels so that they dont appear clumsy\n",
    "ax.set_xticklabels(ax.get_xticklabels(), rotation=40, ha=\"right\")\n",
    "# show method to output the plot\n",
    "plt.show()"
   ]
  },
  {
   "cell_type": "code",
   "execution_count": null,
   "id": "98e45acf",
   "metadata": {},
   "outputs": [],
   "source": [
    "# taking sum from the google apps data for grouping by category and then reset the index using \"reset_index\"\n",
    "google_apps_sum = google_apps.groupby('Category').sum().reset_index()\n",
    "# taking mean from the google apps data for grouping by category and then reset the index using \"reset_index\"\n",
    "google_apps_mean = google_apps.groupby('Category').mean().reset_index()\n",
    "# using describe to get statistical summary of the data (for numeric attribute)\n",
    "google_apps.describe()"
   ]
  },
  {
   "cell_type": "markdown",
   "id": "4c8c0e09",
   "metadata": {},
   "source": [
    "###### 2. Analysis on Average App size for categories"
   ]
  },
  {
   "cell_type": "code",
   "execution_count": null,
   "id": "4622b452",
   "metadata": {},
   "outputs": [],
   "source": [
    "# using inbuilt \"figure\" method of the plot to set figure size\n",
    "plt.figure(figsize=(20,6))\n",
    "#title of the plot\n",
    "plt.suptitle('Average App Size on App Categories',fontsize = 20)\n",
    "#defining color palette\n",
    "sns.color_palette(\"terrain_r\", 10)\n",
    "#using counter plot with in the library seaborn\n",
    "ax = sns.barplot(data=google_apps_mean, x='Category', y='Size' ,palette=\"terrain_r\")\n",
    "#rotating the labels so that they dont appear clumsy\n",
    "ax.set_xticklabels(ax.get_xticklabels(), rotation=40, ha=\"right\")\n",
    "# show method to output the plot\n",
    "plt.show()"
   ]
  },
  {
   "cell_type": "markdown",
   "id": "4e2e9a4f",
   "metadata": {},
   "source": [
    "###### 3. Count for ContentRating types"
   ]
  },
  {
   "cell_type": "code",
   "execution_count": null,
   "id": "f5088ddf",
   "metadata": {},
   "outputs": [],
   "source": [
    "# using inbuilt \"figure\" method of the plot to set figure size\n",
    "plt.figure(figsize=(20,6))\n",
    "# subplot is used to generate m*n grid with axes in specified location p\n",
    "plt.subplot(122)\n",
    "#defining color palette\n",
    "sns.color_palette(\"terrain_r\", 10)\n",
    "#using hisplot to generate the plot \n",
    "sns.histplot(data=google_apps, x='Content Rating',palette=\"terrain_r\")\n",
    "#title of the plot\n",
    "plt.title('Content Distribution')\n",
    "#showing the generated plot using show method\n",
    "plt.show()"
   ]
  },
  {
   "cell_type": "markdown",
   "id": "5c418fef",
   "metadata": {},
   "source": [
    "###### 4. Rating vs Size"
   ]
  },
  {
   "cell_type": "markdown",
   "id": "067c46cc",
   "metadata": {},
   "source": [
    "Below block of code will give the scatterplot for the Rating vs Size. From the graph,\n",
    "we can asnswer the questions like,\n",
    "1. Is Rating, size are correlated \n",
    "2. Which range of rating is higely getting for this data \n",
    "3. Based on size, what is the range of price to get high rating\n",
    "Like this we can frame questions and we can intrepret from the plot."
   ]
  },
  {
   "cell_type": "code",
   "execution_count": null,
   "id": "99745ecf",
   "metadata": {},
   "outputs": [],
   "source": [
    "# using inbuilt \"figure\" method of the plot to set figure size\n",
    "plt.figure(figsize=(20,6))\n",
    "# setting y limit\n",
    "plt.ylim(0,3000000000)\n",
    "# subplot is used to generate m*n grid with axes in specified location p\n",
    "plt.subplot(122)\n",
    "#define color palette\n",
    "sns.color_palette(\"terrain_r\", 10)\n",
    "# generating scatterplot\n",
    "sns.scatterplot(data = google_apps, x= 'Rating', y='Size' ,palette=\"terrain_r\" )\n",
    "# displaying the plot\n",
    "plt.show()"
   ]
  },
  {
   "cell_type": "markdown",
   "id": "de1a47b4",
   "metadata": {},
   "source": [
    "###### 5. Reviews vs Installs"
   ]
  },
  {
   "cell_type": "markdown",
   "id": "ca559c27",
   "metadata": {},
   "source": [
    "Below block of code will give the scatterplot for the Reviews vs Installs. From the graph, we can asnswer the questions like,\n",
    "Is Reviews, Installs are correlated ?\n",
    "Is Installs count is effecting the Reviews count?\n",
    "For this type of questions, we can intrepret from the plot."
   ]
  },
  {
   "cell_type": "code",
   "execution_count": null,
   "id": "26aef945",
   "metadata": {},
   "outputs": [],
   "source": [
    "# using inbuilt \"figure\" method of the plot to set figure size\n",
    "plt.figure(figsize=(20,6))\n",
    "# subplot is used to generate m*n grid with axes in specified location p\n",
    "plt.subplot(121)\n",
    "# generatign a scatterplot\n",
    "sns.scatterplot(data = google_apps, x= 'Reviews', y='Installs')\n",
    "# set x axis limit\n",
    "plt.xlim(0,30000000)\n",
    "# set y axis lmit\n",
    "plt.ylim(0,3000000000)\n",
    "# display the plot\n",
    "plt.show()"
   ]
  },
  {
   "cell_type": "markdown",
   "id": "7745c513",
   "metadata": {},
   "source": [
    "###### 6. Average Rating, Total Installs count on App categories"
   ]
  },
  {
   "cell_type": "markdown",
   "id": "72c33c16",
   "metadata": {},
   "source": [
    "From the below block code, we can Intrpret the results like \n",
    "If an category is having highest average rating, it means if an app will perform good or not?\n",
    "If an category is having highest Installs count, it means if an app will perform good or not?\n",
    "Range of average rating is more for most of the categories and \n",
    "which category is getting highest and lowest average rating"
   ]
  },
  {
   "cell_type": "code",
   "execution_count": null,
   "id": "89521cad",
   "metadata": {},
   "outputs": [],
   "source": [
    "# using inbuilt \"figure\" method of the plot to set figure size\n",
    "plt.figure(figsize=(20,6))\n",
    "#title of the plot\n",
    "plt.title('Total Install Count and Average Rating on App Categories',fontsize = 20)\n",
    "# define color palette\n",
    "sns.color_palette(\"terrain_r\", 10)\n",
    "# generating barplot\n",
    "ax = sns.barplot(data=google_apps_sum, x='Category', y='Installs',palette=\"terrain_r\")\n",
    "# rotating the lables on x axis so that it doesn't appear clumsy\n",
    "ax.set_xticklabels(ax.get_xticklabels(), rotation=40, ha=\"right\")\n",
    "# using twinx to display plot on top of another plot\n",
    "plt.twinx()\n",
    "# generating the lineplot \n",
    "sns.lineplot(data=google_apps_mean, x='Category', y='Rating')\n",
    "# defining/labeling legend \n",
    "plt.legend(labels=['Average Rating'],fontsize = 20)"
   ]
  },
  {
   "cell_type": "markdown",
   "id": "164e1a1b",
   "metadata": {},
   "source": [
    "###### 7. Effects of the price on Ratings"
   ]
  },
  {
   "cell_type": "markdown",
   "id": "b6c808d4",
   "metadata": {},
   "source": [
    "From the below jointplot code, we can intrepret whether Ratings are effecting the price or viceversa."
   ]
  },
  {
   "cell_type": "code",
   "execution_count": null,
   "id": "3f7effd9",
   "metadata": {},
   "outputs": [],
   "source": [
    "#generating a join plot\n",
    "g=sns.jointplot(x='Rating',y='Price',data=google_apps, color='g')\n",
    "#title of the plot\n",
    "plt.title(\"Price Vs Rating\")\n",
    "#display the plot\n",
    "plt.show()"
   ]
  },
  {
   "cell_type": "markdown",
   "id": "2c160a62",
   "metadata": {},
   "source": [
    "###### 8. Count of Rating for each Content Rating"
   ]
  },
  {
   "cell_type": "markdown",
   "id": "cb05b31f",
   "metadata": {},
   "source": [
    "From the plot we can intrepret few questions like, which content rating is having more chances to give rating?, Which content rating apps are more having in the dataset? Is Rating and Content Rating are effecting?"
   ]
  },
  {
   "cell_type": "code",
   "execution_count": null,
   "id": "52f81646",
   "metadata": {},
   "outputs": [],
   "source": [
    "# grouping by content rating and then taking median\n",
    "newcontent=google_apps.groupby(['Content Rating']).median()\n",
    "newcontent['Content Rating'] = newcontent.index\n",
    "# grouping by content rating and then taking count\n",
    "newcontent_count=google_apps.groupby(['Content Rating']).count()\n",
    "# setting index\n",
    "newcontent_count['Content Rating'] = newcontent_count.index\n",
    "# Setting color condition to high light highest value\n",
    "clrs = ['green' if (x < max(newcontent_count['App'])) else 'blue' for x in newcontent_count['App'] ]\n",
    "# generate bar plot\n",
    "sns.barplot('Content Rating','Rating',data=newcontent_count, palette=clrs)\n",
    "# display plot\n",
    "plt.show()"
   ]
  },
  {
   "cell_type": "markdown",
   "id": "3be0853f",
   "metadata": {},
   "source": [
    "###### 9. Size Distribution Plot"
   ]
  },
  {
   "cell_type": "code",
   "execution_count": null,
   "id": "4d2d2f78",
   "metadata": {},
   "outputs": [],
   "source": [
    "# generating distribution plot \n",
    "a=sns.distplot(google_apps['Size'],bins=5,color='g')\n",
    "# display the plot\n",
    "plt.plot()"
   ]
  },
  {
   "cell_type": "markdown",
   "id": "2fde99ea",
   "metadata": {},
   "source": [
    "###### 10. Which Category of Apps is having more Installs"
   ]
  },
  {
   "cell_type": "code",
   "execution_count": null,
   "id": "2e54d361",
   "metadata": {},
   "outputs": [],
   "source": [
    "From the output of the code, we can conclude that which category is havng highest number of Installs"
   ]
  },
  {
   "cell_type": "code",
   "execution_count": null,
   "id": "450fad5a",
   "metadata": {},
   "outputs": [],
   "source": [
    "# group by category with sum of installations sorted by Installs\n",
    "topInstalls = google_apps.groupby('Category')[['Installs']].sum().sort_values(by= 'Installs', ascending=False)\n",
    "# displays top 20\n",
    "topInstalls()"
   ]
  },
  {
   "cell_type": "markdown",
   "id": "443faddc",
   "metadata": {},
   "source": [
    "###### 11. Which App's are the top ten most installed in each category"
   ]
  },
  {
   "cell_type": "markdown",
   "id": "62ffb406",
   "metadata": {},
   "source": [
    "So, we know the which category is having more installs, Now finding which app si having in the category is having more number of installs."
   ]
  },
  {
   "cell_type": "code",
   "execution_count": null,
   "id": "fd55dd7a",
   "metadata": {},
   "outputs": [],
   "source": [
    "# function to plot bar for top 10 in category\n",
    "def findtop10incategory(str):\n",
    "    str = str.upper()\n",
    "    top10 = google_apps[google_apps['Category'] == str]\n",
    "    # sort by installation and display top 10\n",
    "    top10apps = top10.sort_values(by='Installs', ascending=False).head(10)\n",
    "    # using figure method setting size of the image\n",
    "    plt.figure(figsize=(13,10))\n",
    "    # title of the project\n",
    "    plt.title('Top 10 Installed Apps',size = 15);  \n",
    "    # setting color palette\n",
    "    sns.color_palette(\"terrain_r\", 10)\n",
    "    # generate barplot\n",
    "#ax = sns.countplot(data=google_apps, x='Category', palette=\"terrain_r\")\n",
    "    plot = sns.barplot(x = top10apps.App, y = top10apps.Installs,palette=\"terrain_r\" )\n",
    "    # rotating x labels to make them visible better\n",
    "    plot.set_xticklabels(plot.get_xticklabels(), rotation= 45, horizontalalignment='right');\n",
    "# function call with \"category\" as input or parameter\n",
    "findtop10incategory('FAMILY')"
   ]
  },
  {
   "cell_type": "markdown",
   "id": "1c1dc159",
   "metadata": {},
   "source": [
    "###### 12. Which apps have the most reviews"
   ]
  },
  {
   "cell_type": "markdown",
   "id": "626588ce",
   "metadata": {},
   "source": [
    "From the output of the code, we can conclude which apps are getting more number of reviews and from that we can see In what type of apps users are showing more intrest."
   ]
  },
  {
   "cell_type": "code",
   "execution_count": null,
   "id": "999fe05a",
   "metadata": {},
   "outputs": [],
   "source": [
    "# pivot table with app as index and by taking mean of reviews\n",
    "highestreviews_app = google_apps.pivot_table('Reviews', index=['App'],aggfunc='mean')\n",
    "# sort values by reviews\n",
    "highestreviews_app = highestreviews_app.sort_values(by ='Reviews',ascending=False)\n",
    "highestreviews_app   "
   ]
  },
  {
   "cell_type": "markdown",
   "id": "b5463520",
   "metadata": {},
   "source": [
    "###### 13. How do the app ratings differ between paid and free apps in general?"
   ]
  },
  {
   "cell_type": "markdown",
   "id": "e4c99f2c",
   "metadata": {},
   "source": [
    "From this output, we can conclude that Is the ratings are differ when the app is free or paid? Which type of app is better rated? Is type of app is effects the Rating? "
   ]
  },
  {
   "cell_type": "code",
   "execution_count": null,
   "id": "142783e7",
   "metadata": {},
   "outputs": [],
   "source": [
    "# function to generate bar plot for target attribute with mean\n",
    "def plot_target_by_group(google_apps, target_col, group_col, figsize=(6,4), title=\"\"):\n",
    "  \n",
    "    order = sorted(list(set(google_apps[group_col])))\n",
    "    stats = google_apps.groupby(group_col).mean()[target_col]\n",
    "    fig, ax = plt.subplots(figsize=figsize)\n",
    "    sns.color_palette(\"terrain_r\", 10)\n",
    "    sns.barplot(x=group_col, y=target_col, data=google_apps, ax=ax, order=order,palette=\"terrain_r\").set_title(title)\n",
    "    ax.set(ylim=(3.8, 4.5))\n",
    "    plt.xticks(rotation=90)\n",
    "    return stats\n"
   ]
  },
  {
   "cell_type": "code",
   "execution_count": null,
   "id": "40ea0d25",
   "metadata": {},
   "outputs": [],
   "source": [
    "# using the function created above generated a bar plot between paid and free\n",
    "stats = plot_target_by_group(google_apps_rating, 'Rating', 'Type', title=\"Average Rating Groupped by App Type\")\n",
    "for i, s in zip(stats.index, stats):\n",
    "    print(\"{} app has average {} {}\".format(i, 'Rating',s))\n",
    "mean_rating = google_apps_rating.Rating.mean()\n",
    "# display mean\n",
    "print(\"Mean rating: {}\".format(mean_rating))"
   ]
  },
  {
   "cell_type": "markdown",
   "id": "8f613ff4",
   "metadata": {},
   "source": [
    "###### 14. Rating Distribution"
   ]
  },
  {
   "cell_type": "code",
   "execution_count": null,
   "id": "7e1aa0f8",
   "metadata": {},
   "outputs": [],
   "source": [
    "# function to display histogram plot\n",
    "def plot_hist(google_apps, col, bins=10):\n",
    "\n",
    "    \n",
    "    plt.hist(google_apps[col], bins=bins,color = \"skyblue\")\n",
    "    plt.xlabel(col)\n",
    "    plt.ylabel('counts')\n",
    "    plt.title('Distribution of {}'.format(col))\n",
    "    \n",
    "# function to get the sum of free and paid\n",
    "def compute_app_types(google_apps):\n",
    "\n",
    "    return sum(google_apps.Type == \"Free\"), sum(google_apps.Type == 'Paid')\n",
    "# function to generate polt for app types wrt category\n",
    "def plot_app_types(google_apps):\n",
    "\n",
    "    vc_rating = google_apps.Category.value_counts()\n",
    "    cat_free_apps = []\n",
    "    cat_paid_apps = []\n",
    "    for cat in vc_rating.index:\n",
    "        n_free, n_paid = compute_app_types(google_apps.query(\"Category == '{}'\".format(cat)))\n",
    "        cat_free_apps.append(n_free)\n",
    "        cat_paid_apps.append(n_paid)\n",
    "\n",
    "    f, ax = plt.subplots(2,1)\n",
    "    ax[0].bar(range(1, len(cat_free_apps)+1), cat_free_apps)\n",
    "    ax[1].bar(range(1, len(cat_free_apps)+1), cat_paid_apps)\n",
    "\n",
    "# function to drop categories with less than 10 instaces    \n",
    "def drop_categories(google_apps):\n",
    "\n",
    "    vc_rating = google_apps.Category.value_counts()\n",
    "    cats_to_drop = []\n",
    "    for cat in vc_rating.index:\n",
    "        n_free, n_paid = compute_app_types(google_apps.query(\"Category == '{}'\".format(cat)))\n",
    "        if n_free < 10 or n_paid < 10:\n",
    "            cats_to_drop.append(cat)\n",
    "    for cat in cats_to_drop:\n",
    "        google_apps.drop(google_apps.query('Category == \"{}\"'.format(cat)).index, axis=0, inplace=True)\n",
    "    print(\"Deleted categories: {}\".format(cats_to_drop))\n",
    "    return google_apps"
   ]
  },
  {
   "cell_type": "code",
   "execution_count": null,
   "id": "8ba794e7",
   "metadata": {},
   "outputs": [],
   "source": [
    "# Histogram to dispaly rate disbution using the fucntion build above\n",
    "plot_hist(google_apps_rating, 'Rating')"
   ]
  },
  {
   "cell_type": "markdown",
   "id": "06bc8936",
   "metadata": {},
   "source": [
    "###### 15. How are the differences distributed across different app categories?¶"
   ]
  },
  {
   "cell_type": "markdown",
   "id": "bc4de026",
   "metadata": {},
   "source": [
    "From the output of the code, we can interpret that, in a particular category at how much rate the free apps are rated higher than the paid apps? In a particular category users are intrested for Paid or Free type."
   ]
  },
  {
   "cell_type": "code",
   "execution_count": null,
   "id": "629a0df9",
   "metadata": {},
   "outputs": [],
   "source": [
    "fig, ax = plt.subplots(figsize=(25,10))\n",
    "sorted_idx = sorted(paid_apps.index)\n",
    "rating_diff = paid_apps[sorted_idx] - free_apps[sorted_idx]\n",
    "# defing the color palette\n",
    "sns.color_palette(\"terrain_r\", 10)\n",
    "# generating bar plot\n",
    "sns.barplot(x=sorted_idx, y=rating_diff, ax=ax, palette=\"terrain_r\").set_title(\"Difference of Ratings between Paid and Free Apps Across App Categories\");\n",
    "# Rotating x axis labels for better visibility\n",
    "plt.xticks(rotation=90)\n",
    "# x label\n",
    "plt.xlabel('Category')\n",
    "rating_diff"
   ]
  },
  {
   "cell_type": "markdown",
   "id": "8a53655e",
   "metadata": {},
   "source": [
    "###### 16.What are the top 25 Apps on the play store that have been downloaded the most times?"
   ]
  },
  {
   "cell_type": "markdown",
   "id": "c50f99ad",
   "metadata": {},
   "source": [
    "From the output or visualization, we can interpret which type of categories app are chances to get average Installation count? Top 25 apps downloaded most in the google play store? "
   ]
  },
  {
   "cell_type": "code",
   "execution_count": null,
   "id": "8eee2ff4",
   "metadata": {},
   "outputs": [],
   "source": [
    "# give repeated apps or total count of apps\n",
    "apps = dict(google_apps.App.value_counts())\n",
    "\n",
    "# using apps dictonary making a new dictionary\n",
    "apps_dataframe = {\n",
    "    'App':list(apps.keys()),\n",
    "    'Count':list(apps.values())\n",
    "}\n",
    "\n",
    "# converting to data fram\n",
    "top_apps = pd.DataFrame(apps_dataframe)\n",
    "top_apps"
   ]
  },
  {
   "cell_type": "code",
   "execution_count": null,
   "id": "b5facb80",
   "metadata": {},
   "outputs": [],
   "source": [
    "# merge above two with common attribute app and then sort with installs and display top 25\n",
    "highest_25_apps_installed= top_apps.merge(apps_total_installs, on = 'App', how = 'left').sort_values('Installs',ascending = False).head(25)\n",
    "highest_25_apps_installed"
   ]
  },
  {
   "cell_type": "markdown",
   "id": "a83da503",
   "metadata": {},
   "source": [
    "For the better understanding, writing code for the visualization to show above the code output."
   ]
  },
  {
   "cell_type": "code",
   "execution_count": null,
   "id": "859fcfae",
   "metadata": {},
   "outputs": [],
   "source": [
    "# set plot size\n",
    "plt.figure(figsize=(30,8))\n",
    "# rotating x axis labels for better visibility\n",
    "plt.xticks(rotation=100)\n",
    "# define color palette\n",
    "sns.color_palette(\"terrain_r\", 10)\n",
    "# Generate bar plot\n",
    "sns.barplot(x = highest_25_apps_installed.App, y = highest_25_apps_installed.Installs,palette=\"terrain_r\")\n",
    "# title of plot\n",
    "plt.title(\"Top Apps and their Total Installations\",size=30)\n",
    "# x label\n",
    "plt.xlabel(\"Top 25 Apps Downloaded\",size=30)\n",
    "# y lable\n",
    "plt.ylabel(\"Total Downloads in  Billions\",size=30)\n",
    "# display plot\n",
    "plt.show();"
   ]
  },
  {
   "cell_type": "markdown",
   "id": "8b2fbbf1",
   "metadata": {},
   "source": [
    "###### 17. Which Genre have the most Priced Apps"
   ]
  },
  {
   "cell_type": "markdown",
   "id": "387147ee",
   "metadata": {},
   "source": [
    "We know the top genres based on their Installations, so from the output plot we can intrepret does the more installation genre is having the highest Priced Apps or not? Which genre is having the most Priced Apps?"
   ]
  },
  {
   "cell_type": "code",
   "execution_count": null,
   "id": "ca9c81ef",
   "metadata": {},
   "outputs": [],
   "source": [
    "# Sorting based on installs and display top 25\n",
    "highest_25_genres_installed = highest_25_genres_installed.sort_values('Installs',ascending = False).head(25)\n",
    "highest_25_genres_installed"
   ]
  },
  {
   "cell_type": "markdown",
   "id": "a8bfce80",
   "metadata": {},
   "source": [
    "For the better unsdertanding the output, using the visualiation to show which genre having the most priced apps"
   ]
  },
  {
   "cell_type": "code",
   "execution_count": null,
   "id": "b658e0b5",
   "metadata": {},
   "outputs": [],
   "source": [
    "#set plot size\n",
    "plt.figure(figsize=(30,8))\n",
    "# rotate x labels\n",
    "plt.xticks(rotation=100)\n",
    "# define color palette\n",
    "sns.color_palette(\"terrain_r\", 10)\n",
    "# generate barplot\n",
    "sns.barplot(x = highest_25_genres_installed.Genres, y = highest_25_genres_installed.Installs , palette=\"terrain_r\")\n",
    "#title of the plot\n",
    "plt.title('Top 25 Genres besed on their total Installations',size=25)\n",
    "# x label\n",
    "plt.xlabel('Top 25 Genres',size=25)\n",
    "# y label\n",
    "plt.ylabel('Total Installations Count in Billions',size=25);"
   ]
  },
  {
   "cell_type": "markdown",
   "id": "60b5aa96",
   "metadata": {},
   "source": [
    "###### 18. which category have the most priced apps"
   ]
  },
  {
   "cell_type": "markdown",
   "id": "ce844d51",
   "metadata": {},
   "source": [
    "This output is like the above output but here we can conclude for the apps. so from the output plot we can intrepret does the more installation app is having the highest Priced Apps or not? Which category of. app is having the most Priced Apps?"
   ]
  },
  {
   "cell_type": "code",
   "execution_count": null,
   "id": "c2cde98a",
   "metadata": {},
   "outputs": [],
   "source": [
    "# taking count of category\n",
    "dict1 = dict(google_apps.Category.value_counts())\n",
    "\n",
    "# making dictonary using above dictonary\n",
    "dataframe = {'Category':list(dict1.keys())}\n",
    "\n",
    "# Converting the dictionary above into a dataframe\n",
    "top_Category = pd.DataFrame(dataframe)\n",
    "top_Category"
   ]
  },
  {
   "cell_type": "code",
   "execution_count": null,
   "id": "51cbe238",
   "metadata": {},
   "outputs": [],
   "source": [
    "# dataframe with category and price attributes\n",
    "top_Category_accordingto_price = google_apps[['Category','Price']]   \n",
    "\n",
    "# group by category and sum of price\n",
    "top_Category_accordingto_price = top_Category_accordingto_price.groupby(['Category'])[['Price']].sum()"
   ]
  },
  {
   "cell_type": "code",
   "execution_count": null,
   "id": "c2aea63c",
   "metadata": {},
   "outputs": [],
   "source": [
    "# Merging above two dataframes\n",
    "final_dataframe = top_Category.merge(top_Category_accordingto_price, on = 'Category', how = 'left').sort_values('Price', ascending = False).head(25)\n",
    "final_dataframe"
   ]
  },
  {
   "cell_type": "code",
   "execution_count": null,
   "id": "69defec7",
   "metadata": {},
   "outputs": [],
   "source": [
    "# set plot size\n",
    "plt.figure(figsize=(30,8))\n",
    "# rotate x axis lables\n",
    "plt.xticks(rotation=100)\n",
    "# generate a bar plot\n",
    "sns.barplot(x = final_dataframe.Category, y = final_dataframe.Price, palette=\"terrain_r\")\n",
    "# x label\n",
    "plt.xlabel('Top 25 Category',size=25)\n",
    "# y lable\n",
    "plt.ylabel('Sum of Prices of Apps in USD',size=25)\n",
    "# title of the plot\n",
    "plt.title('Top 25 Category with maximum sum of price for the apps',size=25);\n",
    "plt.rc('font', size=20)          # controls default text sizes\n",
    "plt.rc('axes', titlesize=20)     # fontsize of the axes title\n",
    "plt.rc('axes', labelsize=20)    # fontsize of the x and y labels\n",
    "plt.rc('xtick', labelsize=20 )    # fontsize of the tick labels\n",
    "plt.rc('ytick', labelsize=20)    # fontsize of the tick labels\n",
    "plt.rc('legend', fontsize=20 )    # legend fontsize\n",
    "plt.rc('figure', titlesize=20)  # fontsize of the figure title\n",
    "# display plot\n",
    "plt.show()"
   ]
  },
  {
   "cell_type": "markdown",
   "id": "941cf382",
   "metadata": {},
   "source": [
    "###### 19. Which Genre having the Most and Least Ratings?"
   ]
  },
  {
   "cell_type": "markdown",
   "id": "fce4fa01",
   "metadata": {},
   "source": [
    "From the output, we can intrepret that which type of genres are most loved by all. "
   ]
  },
  {
   "cell_type": "code",
   "execution_count": null,
   "id": "78bc5745",
   "metadata": {},
   "outputs": [],
   "source": [
    "# group by genre and take mean of rating and sort the values\n",
    "mean_ratings_accto_genres = google_apps.groupby(['Genres'])[['Rating']].mean().sort_values('Rating',ascending = False)\n",
    "\n",
    "cols = list(google_apps.Genres.unique())\n",
    "\n",
    "dict2 = {\n",
    "    'Genres':cols\n",
    "}\n",
    "# conver to data frame\n",
    "df = pd.DataFrame(dict2)\n",
    "# merge above to data frames\n",
    "mean_ratings_accto_genres = mean_ratings_accto_genres.merge(df, on = 'Genres',how = 'left')\n",
    "mean_ratings_accto_genres"
   ]
  },
  {
   "cell_type": "code",
   "execution_count": null,
   "id": "4172e3e2",
   "metadata": {},
   "outputs": [],
   "source": [
    "# display top 10\n",
    "highest_Ratings_top_10 = mean_ratings_accto_genres.head(10)\n",
    "highest_Ratings_top_10"
   ]
  },
  {
   "cell_type": "code",
   "execution_count": null,
   "id": "fdb8ba96",
   "metadata": {},
   "outputs": [],
   "source": [
    "# set plot figure size\n",
    "plt.figure(figsize=(30,8))\n",
    "# rotating x labels\n",
    "plt.xticks(rotation=100)\n",
    "# generate bar plot \n",
    "sns.barplot(x = highest_Ratings_top_10.Genres, y = highest_Ratings_top_10.Rating, palette=\"terrain_r\")\n",
    "# x labels\n",
    "plt.xlabel('Top 10 Genres with highest ratings',size=25)\n",
    "# y labels with size\n",
    "plt.ylabel('Average Ratings (out of 5)',size=25)\n",
    "# title with size\n",
    "plt.title('Genres v/s Average Ratings',size=25);"
   ]
  },
  {
   "cell_type": "code",
   "execution_count": null,
   "id": "48d51ca0",
   "metadata": {},
   "outputs": [],
   "source": [
    "# display top 10\n",
    "lowest_Ratings_top_10 = mean_ratings_accto_genres.tail(10)\n",
    "lowest_Ratings_top_10"
   ]
  },
  {
   "cell_type": "code",
   "execution_count": null,
   "id": "db799b00",
   "metadata": {},
   "outputs": [],
   "source": [
    "# set the plot figure size\n",
    "plt.figure(figsize=(30,8))\n",
    "# rotate x lables\n",
    "plt.xticks(rotation=100)\n",
    "# generate bar plot\n",
    "sns.barplot(x = lowest_Ratings_top_10.Genres, y = lowest_Ratings_top_10.Rating, palette=\"terrain_r\")\n",
    "# x lables with size\n",
    "plt.xlabel('Top 10 Genres with lowest average ratings',size=25)\n",
    "# y lables with size\n",
    "plt.ylabel('Average Ratings (out of 5)',size=25)\n",
    "# title of plot with size\n",
    "plt.title(' Top 10 Genres v/s Average Ratings',size=25);"
   ]
  },
  {
   "cell_type": "markdown",
   "id": "6271a1ff",
   "metadata": {},
   "source": [
    "###### 20. Which Category having the Most and Least Ratings?"
   ]
  },
  {
   "cell_type": "markdown",
   "id": "ff744c9d",
   "metadata": {},
   "source": [
    "From the output, we can intrepret that which type of categories are most loved by all."
   ]
  },
  {
   "cell_type": "code",
   "execution_count": null,
   "id": "d0031403",
   "metadata": {},
   "outputs": [],
   "source": [
    "# group by category and take mean of rating and sort values into df\n",
    "mean_ratings_accto_Category = google_apps.groupby(['Category'])[['Rating']].mean().sort_values('Rating',ascending = False)\n",
    "\n",
    "cols = list(google_apps.Category.unique())\n",
    "\n",
    "dict3 = {\n",
    "    'Category':cols\n",
    "}\n",
    "# conver to dataframe\n",
    "df1 = pd.DataFrame(dict3)\n",
    "# merge both df's\n",
    "mean_ratings_accto_Category = mean_ratings_accto_Category.merge(df1, on = 'Category',how = 'left')\n",
    "mean_ratings_accto_Category"
   ]
  },
  {
   "cell_type": "code",
   "execution_count": null,
   "id": "9c20193d",
   "metadata": {},
   "outputs": [],
   "source": [
    "# display top 10\n",
    "highest_Ratings_top_10_Category = mean_ratings_accto_Category.head(10)\n",
    "highest_Ratings_top_10_Category"
   ]
  },
  {
   "cell_type": "code",
   "execution_count": null,
   "id": "91e2772e",
   "metadata": {},
   "outputs": [],
   "source": [
    "# set the plot figure size\n",
    "plt.figure(figsize=(30,8))\n",
    "# x lables rotation\n",
    "plt.xticks(rotation=100)\n",
    "# generate bar plot\n",
    "sns.barplot(x = highest_Ratings_top_10_Category.Category, y = highest_Ratings_top_10_Category.Rating, palette=\"terrain_r\")\n",
    "# x labels with size\n",
    "plt.xlabel('Top 10 Category with highest ratings',size=25)\n",
    "# y label with size\n",
    "plt.ylabel('Average Ratings (out of 5)',size=25)\n",
    "# title of the plaot with size\n",
    "plt.title('Category v/s Average Ratings',size=25);"
   ]
  },
  {
   "cell_type": "code",
   "execution_count": null,
   "id": "81929610",
   "metadata": {},
   "outputs": [],
   "source": [
    "# display bottomw 10\n",
    "lowest_Ratings_top_10_Category = mean_ratings_accto_Category.tail(10)\n",
    "lowest_Ratings_top_10_Category"
   ]
  },
  {
   "cell_type": "code",
   "execution_count": null,
   "id": "99aa2829",
   "metadata": {},
   "outputs": [],
   "source": [
    "# set the size for the plot figure\n",
    "plt.figure(figsize=(30,8))\n",
    "# rotate x labels\n",
    "plt.xticks(rotation=100)\n",
    "# generate bar plot\n",
    "sns.barplot(x = lowest_Ratings_top_10_Category.Category, y = lowest_Ratings_top_10_Category.Rating, palette=\"terrain_r\")\n",
    "# x lables with size\n",
    "plt.xlabel('Top 10 Category with lowest ratings',size=25)\n",
    "# y label with size\n",
    "plt.ylabel('Average lowest Ratings (out of 5)',size=25)\n",
    "# title of the plot with size\n",
    "plt.title('Category v/s Average lowest Ratings',size=25);"
   ]
  },
  {
   "cell_type": "markdown",
   "id": "94cd8ac7",
   "metadata": {},
   "source": [
    "###### 21. What are the number of apps in different categories with respect to their type(Free/paid) ?"
   ]
  },
  {
   "cell_type": "markdown",
   "id": "655e767b",
   "metadata": {},
   "source": [
    "From the output we can conclude that Is Free apps or Paid apps are more count in each category?"
   ]
  },
  {
   "cell_type": "code",
   "execution_count": null,
   "id": "db7501d1",
   "metadata": {},
   "outputs": [],
   "source": [
    "# df with group by category and then take count and reset the index\n",
    "x = google_apps.groupby(['Category','Type'])[['App']].count().reset_index()\n",
    "\n",
    "# df wiht just apps free and count\n",
    "x1 = x[x['Type'] == 'Free'].rename(columns={'App':'Free'}).drop('Type',axis = 1)\n",
    "\n",
    "# df wiht just apps paid and count\n",
    "x2 = x[x['Type'] == 'Paid'].rename(columns={'App':'Paid'}).drop(columns=['Type'])"
   ]
  },
  {
   "cell_type": "markdown",
   "id": "faaf00cd",
   "metadata": {},
   "source": [
    "Here, reset_index() converts the dataframe object into a pure dataframe by adding the index label column. "
   ]
  },
  {
   "cell_type": "code",
   "execution_count": null,
   "id": "41958402",
   "metadata": {},
   "outputs": [],
   "source": [
    "# above two df's are merged\n",
    "total_apps_count_accto_category_df = x1.merge(x2,on = 'Category',how = 'left').fillna(0)"
   ]
  },
  {
   "cell_type": "code",
   "execution_count": null,
   "id": "3b06d939",
   "metadata": {},
   "outputs": [],
   "source": [
    "# generate bar plot\n",
    "total_apps_count_accto_category_df.set_index('Category').plot(kind = 'bar', stacked = False, figsize = (30,7));\n",
    "# x label\n",
    "plt.xlabel(\"Category\")\n",
    "#y label\n",
    "plt.ylabel('Counts of apps w.r.t their type')\n",
    "# title\n",
    "plt.title(\"Categories of apps with respect to their Type vs count\");"
   ]
  },
  {
   "cell_type": "markdown",
   "id": "0652616c",
   "metadata": {},
   "source": [
    "###### 22. In what proportion do App Categories get installed"
   ]
  },
  {
   "cell_type": "code",
   "execution_count": null,
   "id": "abe15db8",
   "metadata": {},
   "outputs": [],
   "source": [
    "# generate a pie chat for category with percentages\n",
    "google_apps.groupby(['Category']).sum().plot(\n",
    "    kind='pie', y='Installs',autopct='%1.0f%%')\n",
    "plt.legend(loc='center right', bbox_to_anchor=(2,0.5))"
   ]
  },
  {
   "cell_type": "markdown",
   "id": "3ae9bac1",
   "metadata": {},
   "source": [
    "###### 23.Does more number of apps in a category have any impacts on installs?"
   ]
  },
  {
   "cell_type": "markdown",
   "id": "43d535b7",
   "metadata": {},
   "source": [
    "We can conclude from the graph, whether the number of apps in a category impacts on installs or not?"
   ]
  },
  {
   "cell_type": "code",
   "execution_count": null,
   "id": "95c95de0",
   "metadata": {},
   "outputs": [],
   "source": [
    "# gorup by category with app count and install sum\n",
    "Installs_impact=google_apps.groupby('Category').agg(App_count=('App','count'),Install_count=('Installs','sum'))\n",
    "# taking unique values\n",
    "sort_category = google_apps['Category'].unique()\n",
    "# sort\n",
    "sort_category.sort()\n",
    "sort_category\n",
    "Installs_impact['Category']= sort_category\n",
    "# display top 5\n",
    "Installs_impact.head()"
   ]
  },
  {
   "cell_type": "markdown",
   "id": "0a661abb",
   "metadata": {},
   "source": [
    "###### 24. Percentage of Free and Paid apps"
   ]
  },
  {
   "cell_type": "markdown",
   "id": "d807a0db",
   "metadata": {},
   "source": [
    "The output concludes which type of apps are mostly used in the Google play store dataset"
   ]
  },
  {
   "cell_type": "code",
   "execution_count": null,
   "id": "e3d4a383",
   "metadata": {},
   "outputs": [],
   "source": [
    "# % of the paid and free\n",
    "totalapp_free_df = (google_apps[google_apps.Type == 'Free'].count().iloc[0] / google_apps['App'].count() * 100).round(2)\n",
    "totalapp_paid_df = (google_apps[google_apps.Type == 'Paid'].count().iloc[0] / google_apps['App'].count() * 100).round(2)\n",
    "plt.figure(figsize=(6,6,))\n",
    "# labels\n",
    "labels = 'Free Applications', 'Paid Applications'\n",
    "sizes = [93.11,6.89]\n",
    "explode = (0.2,0)\n",
    "colors = ['pink','darkorange']\n",
    "# generate pie plot\n",
    "plt.pie(sizes, explode=explode,labels=labels, colors=colors,\n",
    "        autopct='%1.1f%%', shadow=True, startangle=140)\n",
    "plt.axis('equal')\n",
    "# display pie plot\n",
    "plt.show()"
   ]
  },
  {
   "cell_type": "code",
   "execution_count": null,
   "id": "c09ac380",
   "metadata": {},
   "outputs": [],
   "source": [
    "fig, ax_left = plt.subplots()\n",
    "# x labels\n",
    "ax.set_xlabel(r'Category')\n",
    "# plot on top of plot\n",
    "ax_right = ax_left.twinx()\n",
    "\n",
    "# plot and label , legends for left side\n",
    "ax_left.plot(Installs_impact['Category'], Installs_impact['App_count'], color='red', label='App Count')\n",
    "ax_left.set_ylabel('Apps count')\n",
    "ax_left.legend(loc=2)\n",
    "\n",
    "# plot and label , legends for right side\n",
    "ax_right.plot(Installs_impact['Category'], Installs_impact['Install_count'], color='green', label='Installs Count')\n",
    "ax_right.set_ylabel('Installs count')\n",
    "ax_right.legend()\n",
    "fig.autofmt_xdate(rotation=90)\n",
    "\n",
    "ax.grid(False)\n",
    "# remove grid\n",
    "plt.grid(False)\n",
    "# display grid\n",
    "plt.show()"
   ]
  },
  {
   "cell_type": "markdown",
   "id": "2909aed2",
   "metadata": {},
   "source": [
    "###### 25. Number of Reviews as percent of Installs"
   ]
  },
  {
   "cell_type": "markdown",
   "id": "2080ecf8",
   "metadata": {},
   "source": [
    "We can intrepret, The Number of Reviews are impacts the Installs of tha Apps from the graph"
   ]
  },
  {
   "cell_type": "code",
   "execution_count": null,
   "id": "033a0e23",
   "metadata": {},
   "outputs": [],
   "source": [
    "# group by category and then count of apps then sum of reviews and then count of installs\n",
    "RI=google_apps.groupby('Category').agg(App_count=('App','count'),Reviews_count=('Reviews','sum'),Install_count=('Installs','sum'))\n",
    "print(RI)"
   ]
  },
  {
   "cell_type": "code",
   "execution_count": null,
   "id": "f42dbaf1",
   "metadata": {},
   "outputs": [],
   "source": [
    "# taling uniques\n",
    "x = google_apps.Category.unique()\n",
    "# sort\n",
    "x.sort()\n",
    "x\n",
    "RI['Category']= x\n",
    "RI"
   ]
  },
  {
   "cell_type": "code",
   "execution_count": null,
   "id": "aae67a94",
   "metadata": {},
   "outputs": [],
   "source": [
    "fig, host = plt.subplots(figsize=(8,5))\n",
    "\n",
    "par1 = host.twinx()\n",
    "par2 = host.twinx()\n",
    "# limits for x and y   \n",
    "host.set_xlim(0, 5)\n",
    "host.set_ylim(0, 2000)\n",
    "par1.set_ylim(0, 523423792)\n",
    "par2.set_ylim(2, 11532464253)\n",
    "# labels for x and y    \n",
    "host.set_xlabel(\"Category\")\n",
    "host.set_ylabel(\"App_count\")\n",
    "par1.set_ylabel(\"Reviews_count\")\n",
    "par2.set_ylabel(\"Install_count\")\n",
    "\n",
    "color1 = plt.cm.viridis(0)\n",
    "color2 = plt.cm.viridis(0.5)\n",
    "color3 = plt.cm.viridis(.9)\n",
    "\n",
    "p1, = host.plot(RI['Category'], RI['App_count'],    color=color1, label=\"App count\")\n",
    "p2, = par1.plot(RI['Category'], RI['Reviews_count'],    color=color2, label=\"Reviews count\")\n",
    "p3, = par2.plot(RI['Category'], RI['Install_count'], color=color3, label=\"Install count\")\n",
    "                \n",
    "                \n",
    "lns = [p1, p2, p3]\n",
    "host.legend(handles=lns, loc='best')\n",
    "\n",
    "# right, left, top, bottom\n",
    "par2.spines['right'].set_position(('outward', 60))\n",
    "\n",
    "# no x-ticks                 \n",
    "par2.xaxis.set_ticks(RI['Category'])\n",
    "# rotate labels\n",
    "fig.autofmt_xdate(rotation=90)\n",
    "# remove grid\n",
    "plt.grid(False)"
   ]
  },
  {
   "cell_type": "markdown",
   "id": "15b8537a",
   "metadata": {},
   "source": [
    "###### 26. Is Reviews and Ratings contradict each other?"
   ]
  },
  {
   "cell_type": "markdown",
   "id": "321fd9c9",
   "metadata": {},
   "source": [
    "We can Intrepret from the output,Is reviews and ratings are contradict each other? It means we are very confused sometimes to go with the app which is having more number of ratings factor or more number of good reviews, so for that we are analysing this code."
   ]
  },
  {
   "cell_type": "code",
   "execution_count": null,
   "id": "a5344adc",
   "metadata": {},
   "outputs": [],
   "source": [
    "# group by category and then mean of rating and mean of reviews, mean of installs\n",
    "Reviews_Rating_Contradict=google_apps.groupby('Category').agg(Avg_Rating=('Rating','mean'),Reviews_count=('Reviews','mean'),Install_count=('Installs','mean'))\n",
    "# taking unique values\n",
    "categorycol = google_apps.Category.unique()\n",
    "# sort values\n",
    "categorycol.sort()\n",
    "categorycol\n",
    "Reviews_Rating_Contradict['Category']= categorycol\n",
    "Reviews_Rating_Contradict"
   ]
  },
  {
   "cell_type": "code",
   "execution_count": null,
   "id": "08368bf6",
   "metadata": {},
   "outputs": [],
   "source": [
    "# three bar plots generation\n",
    "plt.bar(Reviews_Rating_Contradict['Category'],Reviews_Rating_Contradict['Install_count'],color=color1, label = 'Install_count')\n",
    "plt.bar(Reviews_Rating_Contradict['Category'],Reviews_Rating_Contradict['Reviews_count'],color=color2, label = 'Reviews_count')\n",
    "plt.bar(Reviews_Rating_Contradict['Category'],Reviews_Rating_Contradict['Avg_Rating'],color=color3, label = 'Average Rating')\n",
    "plt.legend()\n",
    "# x lable\n",
    "plt.xlabel('Category')\n",
    "# rotate x label\n",
    "plt.xticks(rotation=90)\n",
    "# remove grid\n",
    "plt.grid(False)\n",
    "# display plot\n",
    "plt.show()"
   ]
  },
  {
   "cell_type": "markdown",
   "id": "c3fdb52d",
   "metadata": {},
   "source": [
    "###### 27. Examining how many installs an app receives, in relation to its size and version?¶"
   ]
  },
  {
   "cell_type": "markdown",
   "id": "e0cfd513",
   "metadata": {},
   "source": [
    "We can intrepret at what range of size and version more number of apps getting installed. From the first visualization, it shows for which android versions the count of Installations apps getting higest. Second visualization shows, this highest installation count will be impacting the size. If Yes at what range of the size is\n",
    "considerable to install an app."
   ]
  },
  {
   "cell_type": "code",
   "execution_count": null,
   "id": "f42dd336",
   "metadata": {},
   "outputs": [],
   "source": [
    "# generate join plot\n",
    "sns.jointplot(x=google_apps['Installs'],y=google_apps['Size'],kind=\"reg\", space=0, color=\"g\")\n",
    "# display the plot\n",
    "plt.show()"
   ]
  },
  {
   "cell_type": "markdown",
   "id": "cb096d14",
   "metadata": {},
   "source": [
    "###### 28. Heatmap of all numerical variables to get an overview of relationships between them"
   ]
  },
  {
   "cell_type": "code",
   "execution_count": null,
   "id": "6908ce42",
   "metadata": {},
   "outputs": [],
   "source": [
    "f,ax = plt.subplots(figsize=(10,8))\n",
    "# generate head map for correlation\n",
    "sns.heatmap(google_apps.corr(), annot=True, linewidths=.5, fmt= '.1f',ax=ax)\n",
    "# title of the plot and size\n",
    "plt.title(\"The correlation of all variables\",size=20) \n",
    "# display the plot\n",
    "plt.show()"
   ]
  },
  {
   "cell_type": "markdown",
   "id": "f4be5994",
   "metadata": {},
   "source": [
    "###### 29. Rating Vs Reviews"
   ]
  },
  {
   "cell_type": "code",
   "execution_count": null,
   "id": "b35b7dc9",
   "metadata": {},
   "outputs": [],
   "source": [
    "# set the size of the plot figure\n",
    "plt.figure(figsize = (10,10))\n",
    "# generate plot\n",
    "sns.regplot(x=\"Reviews\", y=\"Rating\", color = 'Blue',data=google_apps[google_apps['Reviews']<1000000]);\n",
    "# title of the plot with size\n",
    "plt.title('Rating VS Reveiws',size = 20)"
   ]
  },
  {
   "cell_type": "markdown",
   "id": "e6ac97c5",
   "metadata": {},
   "source": [
    "###### 30. Number of reviews for each category"
   ]
  },
  {
   "cell_type": "markdown",
   "id": "46a2a82d",
   "metadata": {},
   "source": [
    "The output says which category is having more number of reviews. "
   ]
  },
  {
   "cell_type": "code",
   "execution_count": null,
   "id": "1f056981",
   "metadata": {},
   "outputs": [],
   "source": [
    "# group by category and take mean of reviews then index rest and then sort values\n",
    "result1 = google_apps.groupby([\"Category\"])['Reviews'].aggregate(np.mean).reset_index().sort_values('Reviews')\n",
    "\n",
    "plt.subplots(figsize = (18,8))\n",
    "# rotate x label\n",
    "plt.xticks(rotation = 90)\n",
    "# generate plot\n",
    "sns.barplot('Category','Reviews', ci=None, data = google_apps, order=result1['Category'],palette=\"terrain_r\")\n",
    "# title of the plot\n",
    "plt.title('Number of Reviews for Each Category',size=25)\n",
    "# xlabel with size\n",
    "plt.xlabel('Category',size=25)\n",
    "# display plot\n",
    "plt.show()"
   ]
  },
  {
   "cell_type": "markdown",
   "id": "e335d830",
   "metadata": {},
   "source": [
    "###### 31. Average Reviews by Application Installations"
   ]
  },
  {
   "cell_type": "code",
   "execution_count": null,
   "id": "cb75252c",
   "metadata": {},
   "outputs": [],
   "source": [
    "# group by install and means of reviews and then index reset and sort by reviews\n",
    "result3 = google_apps.groupby([\"Installs\"])['Reviews'].aggregate(np.mean).reset_index().sort_values('Reviews')\n",
    "#set the size of the figure for plot\n",
    "plt.figure(figsize=(20,10))\n",
    "#generate plot\n",
    "sns.barplot(x=google_apps.Installs, y=google_apps.Reviews,ci=None,order=result3['Installs'],palette=\"terrain_r\")\n",
    "# rotation of x labels\n",
    "plt.xticks(rotation = 45)\n",
    "# x label\n",
    "plt.xlabel('Application Installs')\n",
    "# y lable\n",
    "plt.ylabel('Reviews')\n",
    "# tile with size for plot\n",
    "plt.title('Average Reviews by Application Installations',size=20)\n",
    "# display plot\n",
    "plt.show()"
   ]
  },
  {
   "cell_type": "markdown",
   "id": "566502a3",
   "metadata": {},
   "source": [
    "###### 32. Rating Vs Size"
   ]
  },
  {
   "cell_type": "markdown",
   "id": "a702c2ba",
   "metadata": {},
   "source": [
    "We can conclude that, at which size brackets the rating will be high"
   ]
  },
  {
   "cell_type": "code",
   "execution_count": null,
   "id": "adff5b74",
   "metadata": {},
   "outputs": [],
   "source": [
    "# set size of the figure in the plot\n",
    "plt.figure(figsize = (12,12))\n",
    "# genereate join plot with configuration\n",
    "size = sns.jointplot(x=\"Size\", y=\"Rating\",color = 'darkorange', data=google_apps, size = 8, kind=\"reg\")"
   ]
  },
  {
   "cell_type": "markdown",
   "id": "40e1d9cf",
   "metadata": {},
   "source": [
    "###### 33. Pairwise plot of Numeric Features based on Free or Paid apps"
   ]
  },
  {
   "cell_type": "markdown",
   "id": "df784756",
   "metadata": {},
   "source": [
    "From the pairplot, we can Comapre the free and paid apps in all aspects like which type of apps are tend to get more ratings or reviews."
   ]
  },
  {
   "cell_type": "code",
   "execution_count": null,
   "id": "7ac5f926",
   "metadata": {},
   "outputs": [],
   "source": [
    "# remove na's\n",
    "rating = google_apps['Rating'].dropna()\n",
    "size = google_apps['Size'].dropna()\n",
    "installs = google_apps['Installs'][google_apps.Installs!=0].dropna()\n",
    "reviews = google_apps['Reviews'][google_apps.Reviews!=0].dropna()\n",
    "type = google_apps['Type'].dropna()\n",
    "# generate pair plot with all the configuration for 'Rating', 'Installs', 'Size','Reviews', 'Type'\n",
    "pairplot = sns.pairplot(pd.DataFrame(list(zip(rating, np.log10(installs), size, np.log10(reviews), type)),\n",
    "                                     columns=['Rating', 'Installs', 'Size','Reviews', 'Type']), hue='Type', palette=\"Set2\")"
   ]
  },
  {
   "cell_type": "markdown",
   "id": "ad2f23c6",
   "metadata": {},
   "source": [
    "##### 34. Boxplot of Price VS Rating based on PriceBand"
   ]
  },
  {
   "cell_type": "markdown",
   "id": "78f88e83",
   "metadata": {},
   "source": [
    "From the boxplot we can interpret, at which priceband the ratings are low and at which Priceband they are high"
   ]
  },
  {
   "cell_type": "code",
   "execution_count": null,
   "id": "aafda942",
   "metadata": {},
   "outputs": [],
   "source": [
    "# creating a price groups or levels\n",
    "google_apps.loc[google_apps['Price'] == 0, 'PriceBand'] = '0 Free'\n",
    "google_apps.loc[(google_apps['Price'] > 0) & (google_apps['Price'] <= 0.99), 'PriceBand'] = '1 Cheap'\n",
    "google_apps.loc[(google_apps['Price'] > 0.99) & (google_apps['Price'] <= 2.99), 'PriceBand']   = '2 Not Too Cheap'\n",
    "google_apps.loc[(google_apps['Price'] > 2.99) & (google_apps['Price'] <= 4.99), 'PriceBand']   = '3 Normal'\n",
    "google_apps.loc[(google_apps['Price'] > 4.99) & (google_apps['Price'] <= 14.99), 'PriceBand']   = '4 Not Too Expensive'\n",
    "google_apps.loc[(google_apps['Price'] > 14.99) & (google_apps['Price'] <= 29.99), 'PriceBand']   = '5 Expensive'\n",
    "google_apps.loc[(google_apps['Price'] > 29.99), 'PriceBand']  = '6 Too Expensive'"
   ]
  },
  {
   "cell_type": "code",
   "execution_count": null,
   "id": "45d308af",
   "metadata": {},
   "outputs": [],
   "source": [
    "# group by PriceBand and mean of rating\n",
    "google_apps[['PriceBand', 'Rating']].groupby(['PriceBand'], as_index=False).mean()"
   ]
  },
  {
   "cell_type": "code",
   "execution_count": null,
   "id": "e0152ec4",
   "metadata": {},
   "outputs": [],
   "source": [
    "# generate cat plot\n",
    "price = sns.catplot(x=\"PriceBand\",y=\"Rating\",data=google_apps, kind=\"box\", height = 10 ,palette = \"Pastel1\",\n",
    "                    order=[\"0 Free\", \"1 Cheap\",\"2 Not Too Cheap\", \"3 Normal\", \"4 Not Too Expensive\", \"5 Expensive\", \"6 Too Expensive\"])\n",
    "price.despine(left=True)\n",
    "# rotate x labels\n",
    "price.set_xticklabels(rotation=90)\n",
    "# y label\n",
    "price.set_ylabels(\"Rating\")\n",
    "# title of the plot\n",
    "plt.title('Boxplot Rating VS Price',size = 20)\n",
    "# display plot\n",
    "plt.plot()"
   ]
  },
  {
   "cell_type": "markdown",
   "id": "c3d41c00",
   "metadata": {},
   "source": [
    "##### 35. Boxenplot of Rating VS Content Rating based on ContentRatingBand"
   ]
  },
  {
   "cell_type": "markdown",
   "id": "e38d69f5",
   "metadata": {},
   "source": [
    "Based on the boxenplot we get, which contentrating category applications got highest rating"
   ]
  },
  {
   "cell_type": "code",
   "execution_count": null,
   "id": "1a6d9e48",
   "metadata": {},
   "outputs": [],
   "source": [
    "#creating content rating groups or levels\n",
    "google_apps.loc[google_apps['Content Rating'] == 'Everyone', 'ContentRatingBand'] = 'Everyone'\n",
    "google_apps.loc[(google_apps['Content Rating'] == 'Teen'), 'ContentRatingBand'] = 'Teen'\n",
    "google_apps.loc[(google_apps['Content Rating'] == 'Everyone 10+'), 'ContentRatingBand'] = 'Everyone 10+'\n",
    "google_apps.loc[(google_apps['Content Rating'] == 'Mature 17+'), 'ContentRatingBand'] = 'Mature 17+'\n",
    "google_apps.loc[(google_apps['Content Rating'] == 'Adults only 18+'), 'ContentRatingBand'] = 'Adults only 18+'\n",
    "google_apps.loc[(google_apps['Content Rating'] == 'Unrated'), 'ContentRatingBand'] = 'Unrated'"
   ]
  },
  {
   "cell_type": "code",
   "execution_count": null,
   "id": "957aa1cf",
   "metadata": {},
   "outputs": [],
   "source": [
    "# group by ContentRatingBand and mean of rating\n",
    "google_apps[['ContentRatingBand', 'Rating']].groupby(['ContentRatingBand'], as_index=False).mean()"
   ]
  },
  {
   "cell_type": "code",
   "execution_count": null,
   "id": "cd124163",
   "metadata": {},
   "outputs": [],
   "source": [
    "# generate catplot\n",
    "price = sns.catplot(x=\"Content Rating\",y=\"Rating\",data=google_apps, kind=\"boxen\", height = 10 ,palette = \"Pastel1\",\n",
    "                    order=[\"Adults only 18+\", \"Everyone\", \"Teen\", \"Everyone 10+\", \"Mature 17+\",\"Unrated\"])\n",
    "price.despine(left=True)\n",
    "# rotate x lable\n",
    "price.set_xticklabels(rotation=90)\n",
    "# y label\n",
    "price.set_ylabels(\"Rating\")\n",
    "# title of the plot\n",
    "plt.title('Boxenplot Rating VS Content Rating',size = 20)\n",
    "#disply plot\n",
    "plt.plot()"
   ]
  },
  {
   "cell_type": "markdown",
   "id": "8358d0c0",
   "metadata": {},
   "source": [
    "#### 36.Pieplot for percentage of reviews for each content rating"
   ]
  },
  {
   "cell_type": "markdown",
   "id": "8acf8ece",
   "metadata": {},
   "source": [
    "From the Pieplot, we can see that which content rating category wrote lot of the reviews."
   ]
  },
  {
   "cell_type": "code",
   "execution_count": null,
   "id": "28891ddb",
   "metadata": {},
   "outputs": [],
   "source": [
    "labels=google_apps['Content Rating'].unique()\n",
    "explode = (0.2, 0, 0,0)\n",
    "size=list()\n",
    "# set lables\n",
    "for content in labels:\n",
    "    size.append(google_apps[google_apps['Content Rating']==content]['Reviews'].mean())\n",
    "# set figure size\n",
    "plt.figure(figsize=(10,10))\n",
    "# set colors\n",
    "colors = ['pink','red','lightgreen','orange', 'lightblue','yellow']\n",
    "# generate pie plot\n",
    "plt.pie(size, explode=explode, labels=labels, colors=colors,autopct='%1.1f%%',\n",
    "        shadow=True, startangle=90)\n",
    "plt.axis('equal')\n",
    "# title of the plot\n",
    "plt.title('Percentage of Reviews for each Content Rating',size = 20)\n",
    "# display plot\n",
    "plt.show()"
   ]
  },
  {
   "cell_type": "markdown",
   "id": "5b25a90b",
   "metadata": {},
   "source": [
    "##### 37. Boxenplot of rating vs genres"
   ]
  },
  {
   "cell_type": "markdown",
   "id": "ffd55dc2",
   "metadata": {},
   "source": [
    "From the boxenplot we cannot interpret whether the genres have strong relationship with ratings or not."
   ]
  },
  {
   "cell_type": "code",
   "execution_count": null,
   "id": "82e2723b",
   "metadata": {},
   "outputs": [],
   "source": [
    "# group by genre and mean of rating and sort by rating\n",
    "google_apps[['Genres', 'Rating']].groupby(['Genres'], as_index=False).mean().sort_values('Rating')"
   ]
  },
  {
   "cell_type": "code",
   "execution_count": null,
   "id": "9f870c58",
   "metadata": {},
   "outputs": [],
   "source": [
    "# describe - statistical summary\n",
    "google_apps[['Genres', 'Rating']].groupby(['Genres'], as_index=False).mean().describe()"
   ]
  },
  {
   "cell_type": "code",
   "execution_count": null,
   "id": "f1311457",
   "metadata": {},
   "outputs": [],
   "source": [
    "genre = sns.catplot(x=\"Genres\",y=\"Rating\",data=google_apps, kind=\"boxen\", height = 18 ,palette = \"Paired\")\n",
    "genre.despine(left=True)\n",
    "#rotating x labels\n",
    "genre.set_xticklabels(rotation=90)\n",
    "# y label\n",
    "genre = genre.set_ylabels(\"Rating\")\n",
    "# title of the boxenplot\n",
    "plt.title('Boxenplot of Rating VS Genres',size = 20)"
   ]
  },
  {
   "cell_type": "markdown",
   "id": "7f85f7be",
   "metadata": {},
   "source": [
    "##### 38. Barplot of Android Version after grouping by Rating."
   ]
  },
  {
   "cell_type": "markdown",
   "id": "3b9535b7",
   "metadata": {},
   "source": [
    "From this plot, we can see whether we can interpret the relationship between the rating and Android version."
   ]
  },
  {
   "cell_type": "code",
   "execution_count": null,
   "id": "67200200",
   "metadata": {},
   "outputs": [],
   "source": [
    "result5 = google_apps.groupby([\"Android Ver\"])['Rating'].aggregate(np.mean).reset_index().sort_values('Rating')\n",
    "#set size of the plot figure\n",
    "plt.figure(figsize=(20,10))\n",
    "#generate bar plot\n",
    "sns.barplot(x=google_apps['Android Ver'], y=google_apps.Rating, ci=None, order=result5['Android Ver'],palette=\"terrain_r\")\n",
    "#rotating x labels\n",
    "plt.xticks(rotation = 45)\n",
    "# y limit\n",
    "plt.ylim(3.5,4.6)\n",
    "# x label\n",
    "plt.xlabel('Android Version of Applications',size=20)\n",
    "# y label\n",
    "plt.ylabel('Rating',size=20)\n",
    "# title of plot\n",
    "plt.title('Average Ratings by Android Version',size=20)\n",
    " # shwow the plot\n",
    "plt.show()"
   ]
  },
  {
   "cell_type": "markdown",
   "id": "507b3ef6",
   "metadata": {},
   "source": [
    "##### 39. Which Category has maximum number of reviews submitted on Google Play Store"
   ]
  },
  {
   "cell_type": "markdown",
   "id": "93f26882",
   "metadata": {},
   "source": [
    "From this we can say which category is getting more number of reviews."
   ]
  },
  {
   "cell_type": "code",
   "execution_count": null,
   "id": "1779b8cb",
   "metadata": {},
   "outputs": [],
   "source": [
    "# there are some negative signs before('-') we will remove them \n",
    "def positive(column):\n",
    "    for i in column:\n",
    "        if i>0:\n",
    "            return i\n",
    "        else:\n",
    "            return i*(-1)\n",
    "google_apps['Reviews'] = google_apps[['Reviews']].apply(positive,axis=1)"
   ]
  },
  {
   "cell_type": "code",
   "execution_count": null,
   "id": "e98f125b",
   "metadata": {},
   "outputs": [],
   "source": [
    "category_reviews = google_apps['Reviews'].groupby(by = google_apps['Category']).sum().sort_values(ascending =False)\n",
    "px.bar(google_apps, x = category_reviews.index, y = category_reviews.values, color = category_reviews.index,title=\"Maximum number of Reviews for Categories\").update_layout(\n",
    "    xaxis_title=\"Category\",title_x=0.5, yaxis_title=\"Reviews count\")"
   ]
  }
 ],
 "metadata": {
  "kernelspec": {
   "display_name": "Python 3 (ipykernel)",
   "language": "python",
   "name": "python3"
  },
  "language_info": {
   "codemirror_mode": {
    "name": "ipython",
    "version": 3
   },
   "file_extension": ".py",
   "mimetype": "text/x-python",
   "name": "python",
   "nbconvert_exporter": "python",
   "pygments_lexer": "ipython3",
   "version": "3.9.7"
  }
 },
 "nbformat": 4,
 "nbformat_minor": 5
}
