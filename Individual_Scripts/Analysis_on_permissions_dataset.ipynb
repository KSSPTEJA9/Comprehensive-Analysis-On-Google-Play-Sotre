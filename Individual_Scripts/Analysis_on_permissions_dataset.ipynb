{
 "cells": [
  {
   "cell_type": "markdown",
   "id": "b8a134f7",
   "metadata": {},
   "source": [
    "## Analysis on Permissions Dataset"
   ]
  },
  {
   "cell_type": "markdown",
   "id": "a07a046c",
   "metadata": {},
   "source": [
    "We have used this dataset mainly for the columns In_app_adds, In_app_Purchases and also for the Game Category analysis."
   ]
  },
  {
   "cell_type": "markdown",
   "id": "cf8ae866",
   "metadata": {},
   "source": [
    "### 1. Are there any factors that are impact by in_app_ads ?\n",
    "Below code is to see whether the apps having in_app_adds impact the installations or not."
   ]
  },
  {
   "cell_type": "code",
   "execution_count": null,
   "id": "94d0e336",
   "metadata": {},
   "outputs": [],
   "source": [
    "# generate bar plot\n",
    "pd.pivot_table(Permission.reset_index(),\n",
    "            index ='Rating',columns = 'Ad_Supported', values = 'Install'\n",
    "              ).plot.bar(subplots=False, layout=(1,2))\n",
    "# xalbel with size\n",
    "plt.xlabel('Rating',size=20)\n",
    "# y label with size\n",
    "plt.ylabel('Installs',size=20)"
   ]
  },
  {
   "cell_type": "markdown",
   "id": "1b986111",
   "metadata": {},
   "source": [
    "### 2. Is there any impact on installs or ratings, if the free app has in-app purchases?\n",
    "To see whether the in_app_purchases has any impact on the installs or on ratings"
   ]
  },
  {
   "cell_type": "code",
   "execution_count": null,
   "id": "7fce899e",
   "metadata": {},
   "outputs": [],
   "source": [
    "# genrate bar plot\n",
    "Free_app = Permission[(Permission.Free == True)]\n",
    "pd.pivot_table(Free_app.reset_index(),\n",
    "            index ='Rating',columns = 'In_App_Purchases', values = 'Install'\n",
    "              ).plot.bar(subplots=False, layout=(1,2))\n",
    "# x label with size\n",
    "plt.xlabel('Rating',size=20)\n",
    "# y label with size\n",
    "plt.ylabel('Installs',size=20)\n"
   ]
  },
  {
   "cell_type": "markdown",
   "id": "89a9b3fa",
   "metadata": {},
   "source": [
    "### 3. Rating vs Content Rating\n",
    "How do ratings differ between an app that has a restricted content rating and one that does not?"
   ]
  },
  {
   "cell_type": "code",
   "execution_count": null,
   "id": "520ba520",
   "metadata": {},
   "outputs": [],
   "source": [
    "# group by content rating then count of apps and sum of rating count and mean of rating\n",
    "CRR=Permission.groupby('Content Rating').agg(App_Count=('App','count'),R_C=('RatingCount','sum'),R=('Rating','mean'))\n",
    "# adding column\n",
    "CRR['Content_Rating']=['Everyone','Teen','Mature 17+','Everyone 10+','Adult 18+']\n",
    "CRR"
   ]
  },
  {
   "cell_type": "code",
   "execution_count": null,
   "id": "8854a594",
   "metadata": {},
   "outputs": [],
   "source": [
    "# Plot a simple line chart\n",
    "plt.plot(CRR['Content_Rating'], CRR['R'], color='g', label='Line Avg Rating')\n",
    "\n",
    "# Plot another line on the same chart/graph\n",
    "#plt.plot(CRR['Content_Rating'], CRR['R_C'], color='r', label='Line Rating Count')\n",
    "\n",
    "#plt.plot(X, CRR['R'], color='b', label='Line Avg Rating ')\n",
    "\n",
    "plt.legend()\n",
    "plt.subplot()\n",
    "# display plot\n",
    "plt.show()\n",
    "\n",
    "\n",
    "fig, ax_left = plt.subplots()\n",
    "ax_right = ax_left.twinx()\n",
    "\n",
    "# plot and label , legends for left side\n",
    "ax_left.plot(CRR['Content_Rating'], CRR['App_Count'], color='red', label='App Count')\n",
    "ax_left.set_ylabel('App Count')\n",
    "ax_left.legend(loc=2)\n",
    "# plot and label , legends for right side\n",
    "ax_right.plot(CRR['Content_Rating'], CRR['R_C'], color='green', label='Rating Count')\n",
    "ax_right.set_ylabel('Rating Count')\n",
    "ax_right.legend()\n",
    "\n",
    "ax_right.plot(CRR['Content_Rating'], CRR['R'], color='blue')\n",
    "#ax_right.set_ylabel('Avg Rating')\n",
    "#ax_right.legend()\n",
    "\n",
    "ax.grid(False)\n",
    "plt.grid(False)\n",
    "plt.show()"
   ]
  },
  {
   "cell_type": "code",
   "execution_count": null,
   "id": "8bf51f14",
   "metadata": {},
   "outputs": [],
   "source": [
    "fig, host = plt.subplots(figsize=(8,5))\n",
    "# plot on top of plot\n",
    "par1 = host.twinx()\n",
    "par2 = host.twinx()\n",
    "# limits for x and y axes    \n",
    "host.set_xlim(0, 5)\n",
    "host.set_ylim(0, 914705)\n",
    "par1.set_ylim(0, 1667438720)\n",
    "par2.set_ylim(2, 2.82)\n",
    "# labels for x and y \n",
    "host.set_xlabel(\"Content_Rating\")\n",
    "host.set_ylabel(\"App_Count\")\n",
    "par1.set_ylabel(\"R_C\")\n",
    "par2.set_ylabel(\"R\")\n",
    "\n",
    "color1 = plt.cm.viridis(0)\n",
    "color2 = plt.cm.viridis(0.5)\n",
    "color3 = plt.cm.viridis(.9)\n",
    "\n",
    "p1, = host.plot(CRR['Content_Rating'], CRR['App_Count'],    color=color1, label=\"App Count\")\n",
    "p2, = par1.plot(CRR['Content_Rating'], CRR['R_C'],    color=color2, label=\"Rating Count\")\n",
    "p3, = par2.plot(CRR['Content_Rating'], CRR['R'], color=color3, label=\"Average Rating\")\n",
    "                \n",
    "                \n",
    "lns = [p1, p2, p3]\n",
    "host.legend(handles=lns, loc='best')\n",
    "# right, left, top, bottom\n",
    "par2.spines['right'].set_position(('outward', 60))\n",
    "\n",
    "# no x-ticks                 \n",
    "par2.xaxis.set_ticks(CRR['Content_Rating'])\n",
    "# remove grid\n",
    "plt.grid(False)"
   ]
  },
  {
   "cell_type": "markdown",
   "id": "981e7fa2",
   "metadata": {},
   "source": [
    "### Game Category Analysis"
   ]
  },
  {
   "cell_type": "code",
   "execution_count": null,
   "id": "bb4597d1",
   "metadata": {},
   "outputs": [],
   "source": [
    "# filtering the data to game category\n",
    "Permission = Permission[Permission['Main Category'] == 'Game']"
   ]
  },
  {
   "cell_type": "markdown",
   "id": "ddc91767",
   "metadata": {},
   "source": [
    "#### 1. Game apps distribution over the years.\n",
    "Used to see the growth of game apps over the years."
   ]
  },
  {
   "cell_type": "code",
   "execution_count": null,
   "id": "74c9f9b0",
   "metadata": {},
   "outputs": [],
   "source": [
    "font = {'family' : 'normal',\n",
    "        'weight' : 2,\n",
    "        'size'   : 15}\n",
    "plt.rcParams['axes.facecolor'] = 'white'\n",
    "plt.rc('font', **font)\n",
    "plt.rc('axes', labelsize=17, titlesize=20)\n",
    "Permission['App Age'] = Permission.LU_year - Permission.Released_year"
   ]
  },
  {
   "cell_type": "code",
   "execution_count": null,
   "id": "c27d003e",
   "metadata": {},
   "outputs": [],
   "source": [
    "# setting the size of the figure for the plot\n",
    "plt.figure(figsize=(15,7))\n",
    "# generate count plot \n",
    "sns.countplot(data=Permission[Permission.Released_year != 2021],\n",
    "             x='Released_year',palette=\"terrain_r\")\n",
    "# rotating the labes on x - axis\n",
    "plt.xticks(rotation=45)\n",
    "# y label\n",
    "plt.ylabel('Total of App')\n",
    "# title of the plot\n",
    "plt.title('App Distributrion By Year \\n')\n",
    "# x label\n",
    "plt.xlabel('\\nReleased Year')\n",
    "# display the plot\n",
    "plt.show()"
   ]
  },
  {
   "cell_type": "markdown",
   "id": "5d1834e8",
   "metadata": {},
   "source": [
    "#### 2. Category vs Installs\n",
    "This one is used to know in which category there are more count of installed apps."
   ]
  },
  {
   "cell_type": "code",
   "execution_count": null,
   "id": "b3b39b61",
   "metadata": {},
   "outputs": [],
   "source": [
    "# set the size of the figure for the plot\n",
    "plt.figure(figsize=(15,7))\n",
    "# generate count plot\n",
    "sns.countplot(data=Permission, x='Category', order=Permission.Category.value_counts().index , palette=\"terrain_r\")\n",
    "# rotating x axis labels\n",
    "plt.xticks(rotation=45)\n",
    "# plot a graph on top on another graph\n",
    "plt.twinx()\n",
    "# group by category and installations\n",
    "dataplot = Permission.groupby('Category')['Install'].sum().loc[list(Permission.Category.value_counts().index)]\n",
    "# generate the lineplot\n",
    "sns.lineplot(data=dataplot.reset_index(),x='Category',y='Install')\n",
    "# rotate x lables\n",
    "plt.xticks(rotation=45)\n",
    "# title of the plot\n",
    "plt.title('Category Distibution \\n')\n",
    "plt.show()"
   ]
  },
  {
   "cell_type": "markdown",
   "id": "49fd3157",
   "metadata": {},
   "source": [
    "#### 3. App Age vs Installs\n",
    "Is App Age impact the installations?"
   ]
  },
  {
   "cell_type": "code",
   "execution_count": null,
   "id": "0c1a9bde",
   "metadata": {},
   "outputs": [],
   "source": [
    "# set the size of the figure for the plot\n",
    "plt.figure(figsize=(10,5))\n",
    "# group by app age and then take sum of installs then plot the values\n",
    "Permission.groupby('App Age')['Install'].sum().plot(kind='bar',\n",
    "                                                    xlabel = 'App Age',\n",
    "                                                    ylabel = 'Total of install',color='green')\n",
    "# title of the plot\n",
    "plt.title('Is App Age impact to number of user?\\n')\n",
    "# display the plot\n",
    "plt.show()"
   ]
  },
  {
   "cell_type": "markdown",
   "id": "8320db8d",
   "metadata": {},
   "source": [
    "#### 4. Rating distribution of the Game Category Apps\n",
    "To know at which range of the rating the Game apps are there in the Play Store."
   ]
  },
  {
   "cell_type": "code",
   "execution_count": null,
   "id": "2f6702f1",
   "metadata": {},
   "outputs": [],
   "source": [
    "# set the size of the figure for the plot\n",
    "plt.figure(figsize=(15,7))\n",
    "# Generate count plot\n",
    "sns.countplot(data=Permission[Permission.Rating != 0],x='Rating',palette=\"terrain_r\")\n",
    "# rotate x axis labels\n",
    "plt.xticks(rotation=60)\n",
    "# y axis label\n",
    "plt.ylabel('Total of App')\n",
    "# title for the plot\n",
    "plt.title('Rating Distribution \\n')\n",
    "# display plot\n",
    "plt.show()"
   ]
  },
  {
   "cell_type": "markdown",
   "id": "beec04fa",
   "metadata": {},
   "source": [
    "#### 5.Percent of Free\\Ad Supported\\In App Purchases\\Editors Choice in Install quantity\n",
    "To interpret which type of apps are getting more installations and whether those apps are add supported or support the In app Purchases or not."
   ]
  },
  {
   "cell_type": "code",
   "execution_count": null,
   "id": "c00137ba",
   "metadata": {},
   "outputs": [],
   "source": [
    "# Set the size of the figure for the plot\n",
    "plt.figure(figsize=(18,12))\n",
    "# subplot creating a m*n grid and plot at position p\n",
    "plt.subplot(221)\n",
    "# generating a pie plot for free and paid with %\n",
    "Permission['Type'].value_counts().plot(kind='pie',autopct='%1.1f%%',startangle=300, fontsize=15)\n",
    "plt.subplot(222)\n",
    "# generating a pie plot for Ad_support with %\n",
    "Permission['Ad_Supported'].value_counts().plot(kind='pie',autopct='%1.1f%%',startangle=5, fontsize=15)\n",
    "plt.subplot(223)\n",
    "# generating a pie plot for In_App_Purchases with %\n",
    "Permission['In_App_Purchases'].value_counts().plot(kind='pie',autopct='%1.1f%%',startangle=5, fontsize=15)\n",
    "plt.subplot(224)\n",
    "# generating a pie plot for Editors_Choice with %\n",
    "Permission['Editors_Choice'].value_counts().plot(kind='pie',autopct='%1.1f%%',startangle=300, fontsize=15)\n",
    "# display the plot\n",
    "plt.show()"
   ]
  },
  {
   "cell_type": "markdown",
   "id": "79937568",
   "metadata": {},
   "source": [
    "#### 6. Rating vs Installs\n",
    "To know at which rating bracket the installations are more and the relation between Rating Count and installations."
   ]
  },
  {
   "cell_type": "code",
   "execution_count": null,
   "id": "a4fb618b",
   "metadata": {},
   "outputs": [],
   "source": [
    "# set the size of the figure for the plot\n",
    "plt.figure(figsize=(15,7))\n",
    "# font = {'family' : 'normal',\n",
    "#         'weight' : 2,\n",
    "#         'size'   : 10}\n",
    "# setting plot\n",
    "plt.rc('font', **font)        \n",
    "# plt.rc('axes', labelsize=15, titlesize=17)\n",
    "# creating subplot with m*n grid with plot at position p\n",
    "plt.subplot(121)\n",
    "# generate the scatter plot\n",
    "sns.scatterplot(x=\"Rating\", y=\"Install\" , sizes=(0, 30), data=Permission);\n",
    "# setting position for the scatter plot \n",
    "plt.subplot(122)\n",
    "# generate the scatter plot\n",
    "sns.scatterplot(data=Permission, x='RatingCount', y='Install')\n",
    "# display plot\n",
    "plt.show()"
   ]
  },
  {
   "cell_type": "markdown",
   "id": "4a68c5bb",
   "metadata": {},
   "source": [
    "#### 7. Distribution of Size - Free Game App\n",
    "To know the optimal size of the free game app"
   ]
  },
  {
   "cell_type": "code",
   "execution_count": null,
   "id": "7e7aa74f",
   "metadata": {},
   "outputs": [],
   "source": [
    "#the distribution of the size of Game\n",
    "# filtering free\n",
    "gamefree =Permission[Permission['Type']==0]\n",
    "#set the size of the figurte for the plot\n",
    "plt.figure(figsize=(20, 5))\n",
    "sns.boxplot(data=gamefree,\n",
    "            x='Size', color = 'green')\n",
    "# title of the plot\n",
    "plt.title('Distribution of Size - Free Game\\n')\n",
    "# display the plot\n",
    "plt.show()"
   ]
  },
  {
   "cell_type": "markdown",
   "id": "3c00cc52",
   "metadata": {},
   "source": [
    "#### 8. Distribution of Size- Paid Game App\n",
    "To know the optimal size of the paid game app"
   ]
  },
  {
   "cell_type": "code",
   "execution_count": null,
   "id": "f7d84146",
   "metadata": {},
   "outputs": [],
   "source": [
    "# setting the size of the figure for the plot\n",
    "plt.figure(figsize=(20, 5))\n",
    "# generate the boxplot\n",
    "sns.boxplot(data=gamepaid,\n",
    "            x='Size', color='green')\n",
    "# title of the plot\n",
    "plt.title('Distribution of Size - Paid Game\\n')\n",
    "# display the plot\n",
    "plt.show()"
   ]
  }
 ],
 "metadata": {
  "kernelspec": {
   "display_name": "Python 3",
   "language": "python",
   "name": "python3"
  },
  "language_info": {
   "codemirror_mode": {
    "name": "ipython",
    "version": 3
   },
   "file_extension": ".py",
   "mimetype": "text/x-python",
   "name": "python",
   "nbconvert_exporter": "python",
   "pygments_lexer": "ipython3",
   "version": "3.8.8"
  }
 },
 "nbformat": 4,
 "nbformat_minor": 5
}
