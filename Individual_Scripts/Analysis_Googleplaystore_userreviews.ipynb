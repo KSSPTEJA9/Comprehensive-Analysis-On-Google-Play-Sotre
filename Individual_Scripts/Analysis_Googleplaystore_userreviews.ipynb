{
 "cells": [
  {
   "cell_type": "markdown",
   "id": "3bc5e3eb",
   "metadata": {},
   "source": [
    "## Exploratory Data Analysis on Userreviews Preprocessed Data"
   ]
  },
  {
   "cell_type": "markdown",
   "id": "1f9e7d6c",
   "metadata": {},
   "source": [
    "### Merging Google play store apps and google playstore reviews datasets"
   ]
  },
  {
   "cell_type": "code",
   "execution_count": null,
   "id": "89476995",
   "metadata": {},
   "outputs": [],
   "source": [
    "# merging of google apps and userreviews\n",
    "apps_reviews = pd.merge(google_apps,userreviews)\n",
    "apps_reviews"
   ]
  },
  {
   "cell_type": "markdown",
   "id": "9c5c105a",
   "metadata": {},
   "source": [
    "### 1. Sentiment Analysis"
   ]
  },
  {
   "cell_type": "markdown",
   "id": "66f06e9f",
   "metadata": {},
   "source": [
    "##### The below blocks of code is to answer\n",
    "i.Do Free or Paid App tends to receive more positive or negative feedback?\n",
    "ii.How the sentiment distributed in the data?\n",
    "iii.Is Sentiment Subjectivity is related to Sentiment Polarity?"
   ]
  },
  {
   "cell_type": "code",
   "execution_count": null,
   "id": "9c674de7",
   "metadata": {},
   "outputs": [],
   "source": [
    "y_actual = pd.Series(apps_reviews['Type'], name='Type')\n",
    "y_predicted = pd.Series(apps_reviews['Sentiment'], name='Sentiment')\n",
    "\n",
    "#create confusion matrix\n",
    "print(pd.crosstab(y_actual, y_predicted))"
   ]
  },
  {
   "cell_type": "code",
   "execution_count": null,
   "id": "22890bec",
   "metadata": {},
   "outputs": [],
   "source": [
    "# using inbuilt \"figure\" method of the plot to set figure size\n",
    "plt.figure(figsize=(10,6))\n",
    "# grouping the apps_reviews based in sentiment and taking count of apps and generating a plot bar\n",
    "apps_reviews.groupby('Sentiment').App.count().plot(kind='bar')\n",
    "# title of the bar plot\n",
    "plt.title('Sentiment Distribution \\n')\n",
    "# display the plot\n",
    "plt.show()"
   ]
  },
  {
   "cell_type": "code",
   "execution_count": null,
   "id": "f34d5d21",
   "metadata": {},
   "outputs": [],
   "source": [
    "# using inbuilt \"figure\" method of the plot to set figure size\n",
    "plt.figure(figsize=(17,5))\n",
    "# title of the plot\n",
    "plt.title('Sentiment Distribution \\n')\n",
    "# generating the histogram using histplot\n",
    "sns.histplot(data=apps_reviews,\n",
    "             x='Sentiment_Polarity',\n",
    "             hue='Sentiment', palette=['red','green', 'blue'])\n",
    "#display the plot\n",
    "plt.show()"
   ]
  },
  {
   "cell_type": "code",
   "execution_count": null,
   "id": "99991b2c",
   "metadata": {},
   "outputs": [],
   "source": [
    "# using inbuilt \"figure\" method of the plot to set figure size\n",
    "plt.figure(figsize=(25,6))\n",
    "# plt.subplot(131)\n",
    "# defining the theme to darkgrid\n",
    "sns.set_theme(style='darkgrid')\n",
    "# using implot - to draw a scatter plot onto a FacetGrid\n",
    "sns.lmplot(data=apps_reviews, x='Sentiment_Subjectivity', y ='Sentiment_Polarity', hue='Sentiment',palette=['red','green', 'blue'])\n",
    "# display plot\n",
    "plt.show()"
   ]
  },
  {
   "cell_type": "markdown",
   "id": "0987a1ff",
   "metadata": {},
   "source": [
    "### 2. Worldcloud for reviews"
   ]
  },
  {
   "cell_type": "markdown",
   "id": "370ade50",
   "metadata": {},
   "source": [
    "The below code is to generate the most used words in the reviews. We use worldcloud to generate the most frequently used words."
   ]
  },
  {
   "cell_type": "code",
   "execution_count": null,
   "id": "20a581ba",
   "metadata": {},
   "outputs": [],
   "source": [
    "# taking Translated_Review with nulls\n",
    "review_notnull = userreviews[userreviews['Translated_Review'].notnull()]"
   ]
  },
  {
   "cell_type": "code",
   "execution_count": null,
   "id": "e75d7a17",
   "metadata": {},
   "outputs": [],
   "source": [
    "# using word cloud generating image with frequent words\n",
    "text = review_notnull.Translated_Review.values\n",
    "wordcloud = WordCloud(\n",
    "    width = 3000,\n",
    "    height = 2000,\n",
    "    background_color = '#FFFFFF',\n",
    "    stopwords = STOPWORDS).generate(str(text).lower())\n",
    "fig = plt.figure(\n",
    "    figsize = (40, 30),\n",
    "    facecolor = 'k',\n",
    "    edgecolor = 'k')\n",
    "plt.imshow(wordcloud, interpolation = 'bilinear')\n",
    "plt.axis('off')\n",
    "plt.tight_layout(pad=0)\n",
    "plt.show()"
   ]
  },
  {
   "cell_type": "markdown",
   "id": "a337463d",
   "metadata": {},
   "source": [
    "### 3. Sentiment Subjecivity vs Sentiment Polarity"
   ]
  },
  {
   "cell_type": "markdown",
   "id": "d2a893c4",
   "metadata": {},
   "source": [
    "##### The below code is to answer\n",
    "Is the Reviews are Fact Based or Opinion Based?\n",
    "The Sentiment_Subjectivity score are between 0.0 to 1.0 in which, 0.0 = fact based & 1.0 = opinion based."
   ]
  },
  {
   "cell_type": "code",
   "execution_count": null,
   "id": "2eac1ac9",
   "metadata": {},
   "outputs": [],
   "source": [
    "#Sentiment Subjectivity value counts\n",
    "sentimentsub_apps_reviews = pd.DataFrame(apps_reviews['Sentiment_Subjectivity'].value_counts())\n",
    "\n",
    "# Plot the figure with labels\n",
    "plt.figure(figsize=(10,7))\n",
    "plt.xlabel(\"Subjectivity Score\",fontsize=15)\n",
    "plt.ylabel(\"Total no. of Subjectivity \",fontsize=15)\n",
    "plt.title(\"Histogram of subjectivity\",fontsize=20)\n",
    "\n",
    "# plotting the histrogram\n",
    "plt.hist(apps_reviews[apps_reviews['Sentiment_Subjectivity'].notnull()]['Sentiment_Subjectivity']);"
   ]
  },
  {
   "cell_type": "markdown",
   "id": "c5fd3ef9",
   "metadata": {},
   "source": [
    "### 4. Sentiment Polarity for Free & Paid apps"
   ]
  },
  {
   "cell_type": "markdown",
   "id": "b5fe1a01",
   "metadata": {},
   "source": [
    "##### The block of code is to answer\n",
    "Which type of apps tend to get more positive reviews? "
   ]
  },
  {
   "cell_type": "code",
   "execution_count": null,
   "id": "15c37d89",
   "metadata": {},
   "outputs": [],
   "source": [
    "#Sentiment ploarity value counts\n",
    "sentimentalpolarity_apps = apps_reviews.groupby(['Type'])['Sentiment_Polarity'].count()\n",
    "#Plot the figure with labels\n",
    "fig, ax = plt.subplots()\n",
    "fig.set_size_inches(12, 8)\n",
    "ax = sns.boxplot(x = 'Type', y = 'Sentiment_Polarity', data = apps_reviews)\n",
    "ax.set_title('Sentiment Polarity Vs Type',fontsize=20)\n",
    "plt.show()"
   ]
  }
 ],
 "metadata": {
  "kernelspec": {
   "display_name": "Python 3",
   "language": "python",
   "name": "python3"
  },
  "language_info": {
   "codemirror_mode": {
    "name": "ipython",
    "version": 3
   },
   "file_extension": ".py",
   "mimetype": "text/x-python",
   "name": "python",
   "nbconvert_exporter": "python",
   "pygments_lexer": "ipython3",
   "version": "3.8.8"
  }
 },
 "nbformat": 4,
 "nbformat_minor": 5
}
